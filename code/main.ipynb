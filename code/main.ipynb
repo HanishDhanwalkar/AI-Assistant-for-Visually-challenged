{
 "cells": [
  {
   "cell_type": "code",
   "execution_count": 29,
   "metadata": {},
   "outputs": [],
   "source": [
    "import os\n",
    "from dotenv import load_dotenv\n",
    "import time\n",
    "load_dotenv()\n",
    "\n",
    "api_key = os.getenv('GOOGLE_API_KEY')"
   ]
  },
  {
   "cell_type": "code",
   "execution_count": 42,
   "metadata": {},
   "outputs": [],
   "source": [
    "import google.generativeai as genai\n",
    "from google.generativeai.generative_models  import ChatSession\n",
    "from google.generativeai.types.file_types import File\n",
    "\n",
    "# !!!!!!!!!!!!!!!!!!!!!!!!!!!!!!!!!!!!!!!!!!!!!!!!!!!!!!!!!!!!!!!!!!!!!!!!!!!!!!!!!!!!!!!!!\n",
    "# GET API key and configure\n",
    "# 1. get your Gemini API key from 'https://aistudio.google.com/app/apikey'\n",
    "# 2. create a .env file with GOOGLE_API_KEY='<your_api_key>'\n",
    "# !!!!!!!!!!!!!!!!!!!!!!!!!!!!!!!!!!!!!!!!!!!!!!!!!!!!!!!!!!!!!!!!!!!!!!!!!!!!!!!!!!!!!!!!!"
   ]
  },
  {
   "cell_type": "code",
   "execution_count": null,
   "metadata": {},
   "outputs": [],
   "source": [
    "genai.configure(api_key= api_key)\n",
    "model = genai.GenerativeModel('gemini-1.5-flash')"
   ]
  },
  {
   "cell_type": "code",
   "execution_count": 43,
   "metadata": {},
   "outputs": [],
   "source": [
    "from IPython.display import display\n",
    "from IPython.display import Markdown\n",
    "import textwrap\n",
    "\n",
    "def to_markdown(text):\n",
    "  text = text.replace('•', '  *')\n",
    "  return Markdown(textwrap.indent(text, '> ', predicate=lambda _: True))"
   ]
  },
  {
   "cell_type": "code",
   "execution_count": 50,
   "metadata": {},
   "outputs": [],
   "source": [
    "import pygame \n",
    "import pygame.camera \n",
    "  \n",
    "pygame.camera.init() # initializing  the camera \n",
    "camlist = pygame.camera.list_cameras() \n",
    "\n",
    "def capture():\n",
    "    # if camera is detected or not \n",
    "    if camlist: \n",
    "        cam = pygame.camera.Camera(camlist[0], (640, 480)) \n",
    "        cam.start() # opening the camera \n",
    "        image = cam.get_image() # capturing the single image \n",
    "\n",
    "        if not os.path.exists('imgs'):\n",
    "            os.mkdir('imgs')\n",
    "\n",
    "        file_name =\"imgs/filename.jpg\"\n",
    "        pygame.image.save(image, file_name) # saving the image \n",
    "    \n",
    "    # if camera is not detected the moving to else part \n",
    "    else: \n",
    "        print(\"No camera on current device\") \n",
    "\n",
    "    return file_name"
   ]
  },
  {
   "cell_type": "code",
   "execution_count": 45,
   "metadata": {},
   "outputs": [],
   "source": [
    "# from camera import capture\n",
    "import pyttsx3\n",
    "engine = pyttsx3.init()"
   ]
  },
  {
   "cell_type": "code",
   "execution_count": 63,
   "metadata": {},
   "outputs": [],
   "source": [
    "chat = model.start_chat()\n",
    "\n",
    "def main() -> str:\n",
    "    img_path = capture()\n",
    "    # img_path = 'imgs/filename.jpg'\n",
    "    prompt = \"Describe this image.\"\n",
    "\n",
    "    text_response = []\n",
    "    image_file = genai.upload_file(path=img_path)\n",
    "\n",
    "    responses = model.generate_content([image_file, prompt],\n",
    "                                  request_options={\"timeout\": 600},\n",
    "                                  stream = True)\n",
    "    for chunk in responses:\n",
    "        print(chunk.text)\n",
    "        text_response.append(chunk.text)\n",
    "        engine.say(chunk.text)\n",
    "        engine.runAndWait()\n",
    "\n",
    "    genai.delete_file(image_file.name)\n",
    "\n",
    "    return \"\".join(text_response)"
   ]
  },
  {
   "cell_type": "code",
   "execution_count": null,
   "metadata": {},
   "outputs": [],
   "source": [
    "to_markdown(main())"
   ]
  }
 ],
 "metadata": {
  "kernelspec": {
   "display_name": "base",
   "language": "python",
   "name": "python3"
  },
  "language_info": {
   "codemirror_mode": {
    "name": "ipython",
    "version": 3
   },
   "file_extension": ".py",
   "mimetype": "text/x-python",
   "name": "python",
   "nbconvert_exporter": "python",
   "pygments_lexer": "ipython3",
   "version": "3.11.7"
  }
 },
 "nbformat": 4,
 "nbformat_minor": 2
}
